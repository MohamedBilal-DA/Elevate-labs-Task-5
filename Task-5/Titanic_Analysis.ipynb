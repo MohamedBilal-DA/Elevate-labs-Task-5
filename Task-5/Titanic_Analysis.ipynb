{
 "cells": [
  {
   "cell_type": "markdown",
   "id": "8e2b770b",
   "metadata": {},
   "source": [
    "# Titanic Survival Prediction — Exploratory Data Analysis (EDA)\n",
    "\n",
    "This notebook walks through an exploratory analysis of the Titanic dataset. The aim is to uncover patterns and insights that might help explain passenger survival outcomes.\n",
    "\n",
    "**Dataset:** `tested.csv` (Titanic passenger details)\n",
    "\n",
    "**Key Questions:**\n",
    "- What types of people were more likely to survive?\n",
    "- Do age, gender, or passenger class play important roles?\n",
    "- Can we find hidden patterns in family size, deck, or titles?\n",
    "\n",
    "Let’s dive in! 🚢"
   ]
  },
  {
   "cell_type": "markdown",
   "id": "e6a28350",
   "metadata": {},
   "source": [
    "## 1. Setup\n",
    "\n",
    "We’ll start by importing the libraries we need and loading the dataset."
   ]
  },
  {
   "cell_type": "code",
   "execution_count": null,
   "id": "752c2431",
   "metadata": {},
   "outputs": [],
   "source": [
    "# Import libraries\n",
    "import pandas as pd\n",
    "import numpy as np\n",
    "import matplotlib.pyplot as plt\n",
    "import seaborn as sns\n",
    "\n",
    "# Configure settings for better visuals\n",
    "sns.set(style=\"whitegrid\")\n",
    "pd.set_option('display.max_columns', None)\n",
    "\n",
    "# Load dataset\n",
    "df = pd.read_csv(\"tested.csv\")\n",
    "df.head()"
   ]
  },
  {
   "cell_type": "markdown",
   "id": "d6f72c39",
   "metadata": {},
   "source": [
    "## 2. First Look at the Data\n",
    "\n",
    "Before diving deeper, let’s check the dataset shape, data types, and missing values."
   ]
  },
  {
   "cell_type": "code",
   "execution_count": null,
   "id": "dfa1493c",
   "metadata": {},
   "outputs": [],
   "source": [
    "print(\"Shape of data:\", df.shape)\n",
    "print(\"\\nData Types:\")\n",
    "print(df.dtypes)\n",
    "print(\"\\nMissing values:\")\n",
    "print(df.isnull().sum())\n",
    "\n",
    "df.describe(include=\"all\")"
   ]
  },
  {
   "cell_type": "markdown",
   "id": "4f0ba58e",
   "metadata": {},
   "source": [
    "**Observation:**\n",
    "- We have 418 rows and 12 columns.\n",
    "- `Age` has missing values (~20%).\n",
    "- `Cabin` is mostly missing — we might drop it or simplify it into 'Deck'.\n",
    "- `Fare` has only 1 missing value.\n",
    "- The target column is `Survived` (0 = No, 1 = Yes)."
   ]
  },
  {
   "cell_type": "markdown",
   "id": "6b6cb714",
   "metadata": {},
   "source": [
    "## 3. Feature Engineering (Making Data More Useful)\n",
    "\n",
    "To help our analysis, we’ll create some extra features:\n",
    "- **Deck**: Extracted from Cabin.\n",
    "- **FamilySize**: Based on siblings/spouses + parents/children.\n",
    "- **Title**: Extracted from passenger names.\n",
    "- **Age_missing**: Flag to indicate missing ages."
   ]
  },
  {
   "cell_type": "code",
   "execution_count": null,
   "id": "0f60dadb",
   "metadata": {},
   "outputs": [],
   "source": [
    "# Extract Deck from Cabin (first character)\n",
    "df['Deck'] = df['Cabin'].astype(str).str[0].replace('n','U')\n",
    "\n",
    "# Create FamilySize\n",
    "df['FamilySize'] = df['SibSp'] + df['Parch'] + 1\n",
    "\n",
    "# Extract Title from Name\n",
    "def extract_title(name):\n",
    "    if pd.isna(name): return \"Unknown\"\n",
    "    parts = name.split(\",\")\n",
    "    if len(parts) > 1:\n",
    "        title = parts[1].split()[0]\n",
    "        return title.replace(\".\", \"\")\n",
    "    return \"Unknown\"\n",
    "\n",
    "df['Title'] = df['Name'].apply(extract_title)\n",
    "\n",
    "# Missing Age flag\n",
    "df['Age_missing'] = df['Age'].isnull()\n",
    "\n",
    "df[['Name','Title','Deck','FamilySize','Age_missing']].head()"
   ]
  },
  {
   "cell_type": "markdown",
   "id": "d464802e",
   "metadata": {},
   "source": [
    "## 4. Univariate Analysis\n",
    "\n",
    "Let’s look at single variables to understand distributions and spot any unusual patterns."
   ]
  },
  {
   "cell_type": "code",
   "execution_count": null,
   "id": "9053b860",
   "metadata": {},
   "outputs": [],
   "source": [
    "# Numeric distributions\n",
    "for col in ['Age','Fare','FamilySize']:\n",
    "    plt.figure(figsize=(10,4))\n",
    "    plt.subplot(1,2,1)\n",
    "    sns.histplot(df[col], bins=30, kde=True)\n",
    "    plt.title(f\"{col} Distribution\")\n",
    "    \n",
    "    plt.subplot(1,2,2)\n",
    "    sns.boxplot(x=df[col])\n",
    "    plt.title(f\"{col} Boxplot\")\n",
    "    plt.show()"
   ]
  },
  {
   "cell_type": "markdown",
   "id": "45d83e40",
   "metadata": {},
   "source": [
    "**Observations:**\n",
    "- Most passengers were between 20–40 years old, but there are children and elderly too.\n",
    "- Fare is extremely skewed — a few very expensive tickets dominate.\n",
    "- Family sizes are small for most, though a few had very large families."
   ]
  },
  {
   "cell_type": "code",
   "execution_count": null,
   "id": "374dd13e",
   "metadata": {},
   "outputs": [],
   "source": [
    "# Categorical distributions\n",
    "categorical = ['Sex','Pclass','Embarked','Title','Deck']\n",
    "for col in categorical:\n",
    "    plt.figure(figsize=(8,4))\n",
    "    sns.countplot(data=df, x=col, order=df[col].value_counts().index)\n",
    "    plt.title(f\"{col} Countplot\")\n",
    "    plt.xticks(rotation=45)\n",
    "    plt.show()"
   ]
  },
  {
   "cell_type": "markdown",
   "id": "8e2d6bba",
   "metadata": {},
   "source": [
    "**Observations:**\n",
    "- More males than females were on board.\n",
    "- Majority of passengers were in 3rd class.\n",
    "- Most people embarked from port 'S'.\n",
    "- Titles give hints of social status (Mr, Mrs, Miss, etc.)."
   ]
  },
  {
   "cell_type": "markdown",
   "id": "ca2755be",
   "metadata": {},
   "source": [
    "## 5. Survival Patterns (Bivariate Analysis)\n",
    "\n",
    "Now let’s see how survival relates to key variables like Sex, Class, Age, and Family Size."
   ]
  },
  {
   "cell_type": "code",
   "execution_count": null,
   "id": "f41dec94",
   "metadata": {},
   "outputs": [],
   "source": [
    "# Survival by Sex and Pclass\n",
    "plt.figure(figsize=(10,4))\n",
    "plt.subplot(1,2,1)\n",
    "sns.barplot(data=df, x='Sex', y='Survived', estimator=np.mean)\n",
    "plt.title(\"Survival Rate by Sex\")\n",
    "\n",
    "plt.subplot(1,2,2)\n",
    "sns.barplot(data=df, x='Pclass', y='Survived', estimator=np.mean, order=[1,2,3])\n",
    "plt.title(\"Survival Rate by Pclass\")\n",
    "plt.show()"
   ]
  },
  {
   "cell_type": "markdown",
   "id": "013436ff",
   "metadata": {},
   "source": [
    "**Observation:** Women clearly had a higher survival rate. Also, being in 1st class gave a much better chance of survival compared to 3rd class."
   ]
  },
  {
   "cell_type": "code",
   "execution_count": null,
   "id": "a330572c",
   "metadata": {},
   "outputs": [],
   "source": [
    "# Age vs Survival\n",
    "plt.figure(figsize=(10,5))\n",
    "sns.kdeplot(data=df[df['Survived']==0], x='Age', fill=True, label='Did not survive', color='red')\n",
    "sns.kdeplot(data=df[df['Survived']==1], x='Age', fill=True, label='Survived', color='green')\n",
    "plt.title(\"Age Distribution by Survival\")\n",
    "plt.legend()\n",
    "plt.show()"
   ]
  },
  {
   "cell_type": "markdown",
   "id": "bf047323",
   "metadata": {},
   "source": [
    "**Observation:** Children had higher chances of survival compared to adults. Older passengers (60+) had much lower survival rates."
   ]
  },
  {
   "cell_type": "code",
   "execution_count": null,
   "id": "b0df20f0",
   "metadata": {},
   "outputs": [],
   "source": [
    "# Survival by Embarked\n",
    "sns.barplot(data=df, x='Embarked', y='Survived', estimator=np.mean)\n",
    "plt.title(\"Survival Rate by Embarkation Port\")\n",
    "plt.show()"
   ]
  },
  {
   "cell_type": "markdown",
   "id": "efad2a8c",
   "metadata": {},
   "source": [
    "**Observation:** Passengers embarking from 'C' had higher survival rates compared to 'S' and 'Q'."
   ]
  },
  {
   "cell_type": "markdown",
   "id": "79bfbddf",
   "metadata": {},
   "source": [
    "## 6. Correlation Heatmap\n",
    "\n",
    "To see which numeric variables correlate with survival."
   ]
  },
  {
   "cell_type": "code",
   "execution_count": null,
   "id": "a85a660d",
   "metadata": {},
   "outputs": [],
   "source": [
    "plt.figure(figsize=(8,6))\n",
    "sns.heatmap(df[['Survived','Pclass','Age','SibSp','Parch','Fare','FamilySize']].corr(), \n",
    "            annot=True, cmap='coolwarm', center=0)\n",
    "plt.title(\"Correlation Heatmap\")\n",
    "plt.show()"
   ]
  },
  {
   "cell_type": "markdown",
   "id": "c7170dcc",
   "metadata": {},
   "source": [
    "**Observation:** Survival is negatively correlated with Pclass (higher class = better survival), positively correlated with Fare, and weakly related to Age."
   ]
  },
  {
   "cell_type": "markdown",
   "id": "70265a56",
   "metadata": {},
   "source": [
    "## 7. Key Insights\n",
    "\n",
    "- **Gender mattered a lot:** Women were far more likely to survive.\n",
    "- **Class mattered:** 1st class passengers had much higher chances of survival.\n",
    "- **Age mattered:** Children had higher survival chances; elderly passengers had poor outcomes.\n",
    "- **Fare mattered:** Higher fare passengers tended to survive more (likely tied to class).\n",
    "- **Embarkation mattered:** Those from Cherbourg ('C') had higher survival rates.\n",
    "\n",
    "These findings align with historical accounts of the Titanic disaster."
   ]
  },
  {
   "cell_type": "markdown",
   "id": "1822bc46",
   "metadata": {},
   "source": [
    "## 8. Next Steps\n",
    "\n",
    "With these insights, the next steps could be:\n",
    "- Impute missing Age values intelligently (e.g., by Title).\n",
    "- Encode categorical variables (Sex, Embarked, Title).\n",
    "- Train machine learning models (Logistic Regression, RandomForest, etc.) to predict survival.\n",
    "- Evaluate models using cross-validation.\n",
    "\n",
    "But that’s for the modeling stage. For now, our EDA provides a solid understanding of the dataset."
   ]
  }
 ],
 "metadata": {},
 "nbformat": 4,
 "nbformat_minor": 5
}
